{
 "cells": [
  {
   "cell_type": "code",
   "execution_count": 293,
   "id": "749d7310-64aa-4c89-8225-5b502fb4ac24",
   "metadata": {},
   "outputs": [],
   "source": [
    "import pandas as pd\n",
    "from sklearn.model_selection import train_test_split\n",
    "from sklearn.ensemble import RandomForestRegressor  # or any other model you prefer\n",
    "from sklearn import svm \n",
    "from sklearn.metrics import mean_absolute_error\n",
    "from sklearn.neighbors import KNeighborsClassifier  # For classification tasks\n",
    "from sklearn.neighbors import KNeighborsRegressor   # For regression tasks\n",
    "import datetime"
   ]
  },
  {
   "cell_type": "markdown",
   "id": "fac997cf-0135-449b-b509-f0d46d024eaa",
   "metadata": {},
   "source": [
    "#### Create JSON file for ingestion"
   ]
  },
  {
   "cell_type": "code",
   "execution_count": 269,
   "id": "7ef568ca-e230-453c-850f-cb916fa3cd93",
   "metadata": {},
   "outputs": [],
   "source": [
    "import gspread\n",
    "import pandas as pd\n",
    "import json\n",
    "from oauth2client.service_account import ServiceAccountCredentials\n",
    "\n",
    "scope = [\"https://spreadsheets.google.com/feeds\", \"https://www.googleapis.com/auth/spreadsheets\",\n",
    "         \"https://www.googleapis.com/auth/drive.file\", \"https://www.googleapis.com/auth/drive\"]\n",
    "creds = ServiceAccountCredentials.from_json_keyfile_name(\"credentials.json\", scope)\n",
    "client = gspread.authorize(creds)\n",
    "\n",
    "spreadsheet = client.open(\"Model\")\n",
    "gas = spreadsheet.worksheet(\"Sheet1\")\n",
    "electric = spreadsheet.worksheet(\"Sheet2\")\n",
    "\n",
    "gas = gas.get_all_records()\n",
    "electric = electric.get_all_records()\n",
    "\n",
    "json_gas = json.dumps(gas, indent=4)\n",
    "json_electric = json.dumps(electric, indent=4)\n",
    "\n",
    "with open(\"gas.json\", \"w\") as json_file:\n",
    "    json_file.write(json_gas)\n",
    "\n",
    "with open(\"electric.json\", \"w\") as json_file:\n",
    "    json_file.write(json_electric)"
   ]
  },
  {
   "cell_type": "markdown",
   "id": "c07d5d72-4c4f-4e23-a330-2a458687f3e0",
   "metadata": {},
   "source": [
    "#### Import files and split up training and test"
   ]
  },
  {
   "cell_type": "code",
   "execution_count": 301,
   "id": "884d525f-3cea-4e19-b7d1-1aeb465c961c",
   "metadata": {},
   "outputs": [],
   "source": [
    "import json\n",
    "\n",
    "current_year = datetime.datetime.now().year\n",
    "\n",
    "file_gas= './gas.json'\n",
    "\n",
    "with open(file_gas, 'r') as f:\n",
    "        consumptions = json.load(f)\n",
    "\n",
    "df_gas = pd.DataFrame(consumptions)\n",
    "\n",
    "df_gas_curr = df_gas[df_gas['year'] == current_year]\n",
    "X1curr = df_gas_curr.drop('consumption',axis=1)\n",
    "y1curr = df_gas_curr['consumption']\n",
    "\n",
    "df_gas = df_gas[df_gas['year'] != current_year]\n",
    "\n",
    "X1 = df_gas.drop('consumption',axis=1)\n",
    "y1 = df_gas['consumption']\n",
    "\n",
    "X1_train, X1_test, y1_train, y1_test = train_test_split(X1, y1, test_size=0.2, random_state=42)"
   ]
  },
  {
   "cell_type": "code",
   "execution_count": 309,
   "id": "ea6654cb-f941-4e9a-9be5-5508062228f1",
   "metadata": {},
   "outputs": [],
   "source": [
    "file_electric = './electric.json'\n",
    "\n",
    "with open(file_electric, 'r') as f:\n",
    "        consumptions = json.load(f) \n",
    "\n",
    "df_elec = pd.DataFrame(consumptions)\n",
    "\n",
    "df_elec_curr = df_elec[df_elec['year'] == current_year]\n",
    "\n",
    "X2curr = df_elec_curr.drop('consumption',axis=1)\n",
    "y2curr = df_elec_curr['consumption']\n",
    "\n",
    "df_elec = df_elec[df_elec['year'] != current_year]\n",
    "\n",
    "X2 = df_elec.drop('consumption',axis=1)\n",
    "y2 = df_elec['consumption']\n",
    "\n",
    "X2_train, X2_test, y2_train, y2_test = train_test_split(X2, y2, test_size=0.2, random_state=42)"
   ]
  },
  {
   "cell_type": "markdown",
   "id": "18417e18-372a-48b3-9b00-4a1d5f636fcc",
   "metadata": {},
   "source": [
    "#### Train the models on the gas and electric data"
   ]
  },
  {
   "cell_type": "code",
   "execution_count": 285,
   "id": "eade34f2-5f7a-4981-b34e-c5ad952819af",
   "metadata": {},
   "outputs": [
    {
     "name": "stdout",
     "output_type": "stream",
     "text": [
      "Mean Absolute Error: 4697.362727272728\n"
     ]
    }
   ],
   "source": [
    "model1 =  RandomForestRegressor(n_estimators=50, random_state=67)\n",
    "model1.fit(X1_train, y1_train)\n",
    "\n",
    "y1_pred = model1.predict(X1_test)\n",
    "\n",
    "mae1 = mean_absolute_error(y1_test, y1_pred)\n",
    "print(f'Mean Absolute Error: {mae1}')"
   ]
  },
  {
   "cell_type": "code",
   "execution_count": 286,
   "id": "7e1d7313-121d-48e2-91d6-45d2449f10fd",
   "metadata": {},
   "outputs": [
    {
     "name": "stdout",
     "output_type": "stream",
     "text": [
      "Mean Absolute Error: 130054.2918181818\n"
     ]
    }
   ],
   "source": [
    "model2 =  RandomForestRegressor(n_estimators=50, random_state=67)\n",
    "model2.fit(X2_train, y2_train)\n",
    "\n",
    "y2_pred = model2.predict(X2_test)\n",
    "\n",
    "mae2 = mean_absolute_error(y2_test, y2_pred)\n",
    "print(f'Mean Absolute Error: {mae2}')"
   ]
  },
  {
   "cell_type": "markdown",
   "id": "b89e88dc-3a35-4dda-8f73-c43749675b0c",
   "metadata": {},
   "source": [
    "#### Print model score and show comparisons"
   ]
  },
  {
   "cell_type": "code",
   "execution_count": 323,
   "id": "cd8469a1-c9bf-46f7-85b0-cb8e55bc37db",
   "metadata": {},
   "outputs": [
    {
     "name": "stdout",
     "output_type": "stream",
     "text": [
      "0.9705703672153084\n"
     ]
    }
   ],
   "source": [
    "print(model1.score(X1_train, y1_train))\n",
    "\n",
    "results = pd.DataFrame({\n",
    "    'Actual Consumption': y1_test,\n",
    "    'Predicted Consumption': y1_pred\n",
    "})\n",
    "\n",
    "#print(results)"
   ]
  },
  {
   "cell_type": "code",
   "execution_count": 324,
   "id": "4b4fa4d5-9f78-4351-90f4-befceb367e62",
   "metadata": {},
   "outputs": [
    {
     "name": "stdout",
     "output_type": "stream",
     "text": [
      "0.9508246458554248\n"
     ]
    }
   ],
   "source": [
    "print(model2.score(X2_train, y2_train))\n",
    "\n",
    "results = pd.DataFrame({\n",
    "    'Actual Consumption': y2_test,\n",
    "    'Predicted Consumption': y2_pred\n",
    "})\n",
    "\n",
    "#print(results)"
   ]
  },
  {
   "cell_type": "code",
   "execution_count": 327,
   "id": "77414514-0cdc-481e-87c0-6106adbf1177",
   "metadata": {},
   "outputs": [
    {
     "data": {
      "text/plain": [
       "{'spreadsheetId': '17gvUngyBcr26ZqU4KmNK3oG6XyPKDdybpNg8nl5ioIA',\n",
       " 'updatedRange': 'Predictions!C1:F7',\n",
       " 'updatedRows': 7,\n",
       " 'updatedColumns': 4,\n",
       " 'updatedCells': 28}"
      ]
     },
     "execution_count": 327,
     "metadata": {},
     "output_type": "execute_result"
    }
   ],
   "source": [
    "pred_gas_curr = model1.predict(X1curr)\n",
    "pred_elec_curr = model2.predict(X2curr)\n",
    "\n",
    "curr_results = pd.DataFrame({\n",
    "    'Gas Prediction': pred_gas_curr,\n",
    "    'Gas Consumption': y1curr,\n",
    "    'Electric Prediction': pred_elec_curr,\n",
    "    'Electric Consumption': y2curr\n",
    "})\n",
    "\n",
    "#print(curr_results)\n",
    "try:\n",
    "    pred_worksheet = spreadsheet.add_worksheet(title=\"Predictions\", rows=\"100\", cols=\"4\")\n",
    "except gspread.exceptions.APIError:\n",
    "    pred_worksheet = spreadsheet.worksheet(\"Predictions\")\n",
    "\n",
    "pred_data = [curr_results.columns.values.tolist()] + curr_results.values.tolist()\n",
    "\n",
    "pred_worksheet.update(range_name='C1', values=pred_data)"
   ]
  }
 ],
 "metadata": {
  "kernelspec": {
   "display_name": "Python 3 (ipykernel)",
   "language": "python",
   "name": "python3"
  },
  "language_info": {
   "codemirror_mode": {
    "name": "ipython",
    "version": 3
   },
   "file_extension": ".py",
   "mimetype": "text/x-python",
   "name": "python",
   "nbconvert_exporter": "python",
   "pygments_lexer": "ipython3",
   "version": "3.12.0"
  }
 },
 "nbformat": 4,
 "nbformat_minor": 5
}
